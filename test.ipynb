{
 "cells": [
  {
   "cell_type": "code",
   "execution_count": null,
   "metadata": {},
   "outputs": [],
   "source": [
    "A crypto strategy game agent providing interactive scenarios and feedback based on player decisions."
   ]
  },
  {
   "cell_type": "code",
   "execution_count": null,
   "metadata": {},
   "outputs": [],
   "source": [
    "The Crypto Strategy Game Agent for Theoriq immerses players in a dynamic Web3 adventure, navigating scenarios like DeFi, NFTs, and market trends. Players make critical decisions in a fictional crypto world, influencing the storyline and outcomes. The agent tracks choices across 5 scenarios, provides witty feedback, and generates a final score. With a balance of risk and reward, the agent tests players' strategic thinking, financial instincts, and regulatory awareness. After the game ends, a new session begins, allowing players to engage with fresh challenges in the evolving crypto landscape continuously."
   ]
  },
  {
   "cell_type": "code",
   "execution_count": null,
   "metadata": {},
   "outputs": [],
   "source": [
    "\n",
    "            \n",
    "            +420 774 376 747"
   ]
  },
  {
   "cell_type": "code",
   "execution_count": 1,
   "metadata": {},
   "outputs": [],
   "source": [
    "import os\n",
    "import redis\n",
    "from dotenv import load_dotenv\n",
    "\n",
    "load_dotenv()\n",
    "\n",
    "r = redis.Redis(\n",
    "  host=os.getenv('REDIS_HOST'),\n",
    "  port=os.getenv('REDIS_PORT'),\n",
    "  password=os.getenv('REDIS_PASSWORD'))"
   ]
  },
  {
   "cell_type": "code",
   "execution_count": 2,
   "metadata": {},
   "outputs": [
    {
     "data": {
      "text/plain": [
       "<redis.client.Redis(<redis.connection.ConnectionPool(<redis.connection.Connection(host=redis-13261.c73.us-east-1-2.ec2.redns.redis-cloud.com,port=13261,db=0)>)>)>"
      ]
     },
     "execution_count": 2,
     "metadata": {},
     "output_type": "execute_result"
    }
   ],
   "source": [
    "r"
   ]
  },
  {
   "cell_type": "code",
   "execution_count": 2,
   "metadata": {},
   "outputs": [
    {
     "data": {
      "text/plain": [
       "<redis.client.Redis(<redis.connection.ConnectionPool(<redis.connection.Connection(host=redis-13261.c73.us-east-1-2.ec2.redns.redis-cloud.com,port=13261,db=0)>)>)>"
      ]
     },
     "execution_count": 2,
     "metadata": {},
     "output_type": "execute_result"
    }
   ],
   "source": [
    "r"
   ]
  },
  {
   "cell_type": "code",
   "execution_count": null,
   "metadata": {},
   "outputs": [],
   "source": [
    "     Begin the crypto adventure,Welcome to the crypto adventure navigate your choices,Enter the world of Web3 and start your journey,Shape the future of crypto with every choice"
   ]
  }
 ],
 "metadata": {
  "kernelspec": {
   "display_name": "crypto_env",
   "language": "python",
   "name": "python3"
  },
  "language_info": {
   "codemirror_mode": {
    "name": "ipython",
    "version": 3
   },
   "file_extension": ".py",
   "mimetype": "text/x-python",
   "name": "python",
   "nbconvert_exporter": "python",
   "pygments_lexer": "ipython3",
   "version": "3.11.9"
  }
 },
 "nbformat": 4,
 "nbformat_minor": 2
}
